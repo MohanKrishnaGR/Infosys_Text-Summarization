{
 "cells": [
  {
   "cell_type": "markdown",
   "metadata": {},
   "source": [
    "# Abstractive summary\n",
    "## Method 2 - Model evaluation (src/rouge.ipynb)\n",
    "### Evaluation for the model trained in src/bart.ipynb \n",
    "Performance metrics – ROUGE (Recall-Oriented Understudy for Gisting Evaluation)\n",
    "\n",
    "Implented works:\n",
    "- Load the validation data.\n",
    "- feature - load & tokenize & convert to tensor \n",
    "- Generated summary IDs with specified parameters\n",
    "- Decoded summary IDs to text and skip special tokens\n",
    "- Generated summaries for the validation set      \n",
    "- computed rouge metrics based on generated summary and original summary (target) \n",
    "\n",
    "### Results:\n",
    "After fine-tunning:\n",
    "- rouge1: Score(precision=0.6592064440736602, recall=0.6324733143712006, fmeasure=0.6132238861334389)\n",
    "- rouge2: Score(precision=0.5080411090198691, recall=0.4968806580602876, fmeasure=0.47866874404111104)\n",
    "- rougeL: Score(precision=0.5735140296805632, recall=0.560047355602015, fmeasure=0.5396991258438945)\n",
    "- rougeLsum: Score(precision=0.6167078297893005, recall=0.5946188830525441, fmeasure=0.5762430613700162)\n",
    "\n",
    "Before fine-tunning:\n",
    "- rouge1: Score(precision=0.30968324775739353, recall=0.4396760585008399, fmeasure=0.29054592962775116)\n",
    "- rouge2: Score(precision=0.12535111393152845, recall=0.17781582343023616, fmeasure=0.11609005370534525)\n",
    "- rougeL: Score(precision=0.20093013240942154, recall=0.2907883810753654, fmeasure=0.1878558128893604)\n",
    "- rougeLsum: Score(precision=0.24092968768212347, recall=0.34497937380932003, fmeasure=0.22708400391795613)\n",
    "\n",
    "### Observations:\n",
    "\n",
    "The trained model from method 1 was not used for deployment:\n",
    "\n",
    "Trained model from method 2 was used for deployment\n",
    "\n",
    "Reason:\n",
    "- Even though the model has very minimal training loss but, the model performed inconsistenly in validation & testing phase.\n",
    "- There's a suspected tensor error while training using method 1, which could be attributed to the inconsistency of the model's output.\n",
    "- Model 2 - results outperformed that of method 1.\n",
    "    - ROUGE1 = 61.32 -> Benchmark grade \n",
    "    - GPT4 performance for text summarization - ROUGE1 63.22"
   ]
  },
  {
   "cell_type": "code",
   "execution_count": 1,
   "metadata": {},
   "outputs": [],
   "source": [
    "import pandas as pd\n",
    "import torch\n",
    "from transformers import BartForConditionalGeneration, BartTokenizer\n",
    "from datasets import load_metric"
   ]
  },
  {
   "cell_type": "code",
   "execution_count": 2,
   "metadata": {},
   "outputs": [],
   "source": [
    "#load the validation dataset\n",
    "validation_data = pd.read_csv('/home/mohan/infy/data/fined/validation.csv')\n",
    "\n",
    "input_texts = validation_data['text'].tolist() # DF to list\n",
    "target_texts = validation_data['summary'].tolist() # DF to list"
   ]
  },
  {
   "cell_type": "code",
   "execution_count": 3,
   "metadata": {},
   "outputs": [
    {
     "data": {
      "text/html": [
       "<div>\n",
       "<style scoped>\n",
       "    .dataframe tbody tr th:only-of-type {\n",
       "        vertical-align: middle;\n",
       "    }\n",
       "\n",
       "    .dataframe tbody tr th {\n",
       "        vertical-align: top;\n",
       "    }\n",
       "\n",
       "    .dataframe thead th {\n",
       "        text-align: right;\n",
       "    }\n",
       "</style>\n",
       "<table border=\"1\" class=\"dataframe\">\n",
       "  <thead>\n",
       "    <tr style=\"text-align: right;\">\n",
       "      <th></th>\n",
       "      <th>text</th>\n",
       "      <th>summary</th>\n",
       "    </tr>\n",
       "  </thead>\n",
       "  <tbody>\n",
       "    <tr>\n",
       "      <th>0</th>\n",
       "      <td>Vladimir Putin is 'alive' but 'neutralised' as...</td>\n",
       "      <td>Vladimir Putin is supposed to hold public meet...</td>\n",
       "    </tr>\n",
       "    <tr>\n",
       "      <th>1</th>\n",
       "      <td>#Person1#: How old is Keith?\\n#Person2#: He's ...</td>\n",
       "      <td>#Person1# and #Person2# talk about the age of ...</td>\n",
       "    </tr>\n",
       "    <tr>\n",
       "      <th>2</th>\n",
       "      <td>(CNN)The United States has seemingly erupted t...</td>\n",
       "      <td>A Native American from a tribe not recognized ...</td>\n",
       "    </tr>\n",
       "    <tr>\n",
       "      <th>3</th>\n",
       "      <td>#Person1#: When do you want to have the open h...</td>\n",
       "      <td>#Person1# and #Person2# are planning an open h...</td>\n",
       "    </tr>\n",
       "    <tr>\n",
       "      <th>4</th>\n",
       "      <td>neutral pion photoproduction on the proton at ...</td>\n",
       "      <td>we investigate the neutral pion photoproductio...</td>\n",
       "    </tr>\n",
       "    <tr>\n",
       "      <th>...</th>\n",
       "      <td>...</td>\n",
       "      <td>...</td>\n",
       "    </tr>\n",
       "    <tr>\n",
       "      <th>5011</th>\n",
       "      <td>The New York Police Department is searching fo...</td>\n",
       "      <td>Driver was at intersection of Broadway and Wes...</td>\n",
       "    </tr>\n",
       "    <tr>\n",
       "      <th>5012</th>\n",
       "      <td>SECTION 1. SHORT TITLE.\\n\\n    This Act may be...</td>\n",
       "      <td>Preservation of Localism, Program Diversity, a...</td>\n",
       "    </tr>\n",
       "    <tr>\n",
       "      <th>5013</th>\n",
       "      <td>vortex instabilities are observed throughout t...</td>\n",
       "      <td>vortices have been postulated at a range of si...</td>\n",
       "    </tr>\n",
       "    <tr>\n",
       "      <th>5014</th>\n",
       "      <td>Daniel Levy reportedly told the Tottenham Hots...</td>\n",
       "      <td>Tottenham Hotspur chairman Daniel Levy has tol...</td>\n",
       "    </tr>\n",
       "    <tr>\n",
       "      <th>5015</th>\n",
       "      <td>#Person1#: Hi, Jim. I haven't seen you for a f...</td>\n",
       "      <td>Jim and his brother want to travel but it's ex...</td>\n",
       "    </tr>\n",
       "  </tbody>\n",
       "</table>\n",
       "<p>5016 rows × 2 columns</p>\n",
       "</div>"
      ],
      "text/plain": [
       "                                                   text  \\\n",
       "0     Vladimir Putin is 'alive' but 'neutralised' as...   \n",
       "1     #Person1#: How old is Keith?\\n#Person2#: He's ...   \n",
       "2     (CNN)The United States has seemingly erupted t...   \n",
       "3     #Person1#: When do you want to have the open h...   \n",
       "4     neutral pion photoproduction on the proton at ...   \n",
       "...                                                 ...   \n",
       "5011  The New York Police Department is searching fo...   \n",
       "5012  SECTION 1. SHORT TITLE.\\n\\n    This Act may be...   \n",
       "5013  vortex instabilities are observed throughout t...   \n",
       "5014  Daniel Levy reportedly told the Tottenham Hots...   \n",
       "5015  #Person1#: Hi, Jim. I haven't seen you for a f...   \n",
       "\n",
       "                                                summary  \n",
       "0     Vladimir Putin is supposed to hold public meet...  \n",
       "1     #Person1# and #Person2# talk about the age of ...  \n",
       "2     A Native American from a tribe not recognized ...  \n",
       "3     #Person1# and #Person2# are planning an open h...  \n",
       "4     we investigate the neutral pion photoproductio...  \n",
       "...                                                 ...  \n",
       "5011  Driver was at intersection of Broadway and Wes...  \n",
       "5012  Preservation of Localism, Program Diversity, a...  \n",
       "5013  vortices have been postulated at a range of si...  \n",
       "5014  Tottenham Hotspur chairman Daniel Levy has tol...  \n",
       "5015  Jim and his brother want to travel but it's ex...  \n",
       "\n",
       "[5016 rows x 2 columns]"
      ]
     },
     "execution_count": 3,
     "metadata": {},
     "output_type": "execute_result"
    }
   ],
   "source": [
    "validation_data"
   ]
  },
  {
   "cell_type": "code",
   "execution_count": 4,
   "metadata": {},
   "outputs": [],
   "source": [
    "# Load fine-tuned model and tokenizer\n",
    "model_path =  '/home/mohan/infy/models/fine_tuned_Text_Summ/saved' \n",
    "model = BartForConditionalGeneration.from_pretrained(model_path) # model\n",
    "tokenizer = BartTokenizer.from_pretrained(model_path) # tokenizer\n",
    "\n",
    "device = torch.device(\"cuda\" if torch.cuda.is_available() else \"cpu\")\n",
    "model = model.to(device) # cuda as backend"
   ]
  },
  {
   "cell_type": "code",
   "execution_count": 6,
   "metadata": {},
   "outputs": [
    {
     "name": "stderr",
     "output_type": "stream",
     "text": [
      "/home/mohan/miniconda3/envs/infosys/lib/python3.11/site-packages/datasets/load.py:759: FutureWarning: The repository for rouge contains custom code which must be executed to correctly load the metric. You can inspect the repository content at https://raw.githubusercontent.com/huggingface/datasets/2.19.2/metrics/rouge/rouge.py\n",
      "You can avoid this message in future by passing the argument `trust_remote_code=True`.\n",
      "Passing `trust_remote_code=True` will be mandatory to load this metric from the next major release of `datasets`.\n",
      "  warnings.warn(\n"
     ]
    }
   ],
   "source": [
    "# Load the ROUGE metric\n",
    "rouge = load_metric('rouge')\n",
    "\n",
    "# Function to generate summaries\n",
    "def generate_summary(text):\n",
    "    inputs = tokenizer(text, return_tensors=\"pt\", max_length=512, truncation=True).to(device) # feature load & tokenize & convert to tensor \n",
    "    summary_ids = model.generate(inputs.input_ids, max_length=150, min_length=40, length_penalty=2.0, num_beams=4, early_stopping=True) # Generate summary IDs with specified parameters\n",
    "    summary = tokenizer.decode(summary_ids[0], skip_special_tokens=True)  # Decode summary IDs to text and skip special tokens                          \n",
    "    return summary\n",
    "\n",
    "# Generate summaries for the validation set \n",
    "generated_summaries = [generate_summary(text) for text in input_texts]\n",
    "\n",
    "# save the generated summary to the dataframe\n",
    "validation_data['generated_summary'] = generated_summaries "
   ]
  },
  {
   "cell_type": "code",
   "execution_count": 7,
   "metadata": {},
   "outputs": [],
   "source": [
    "#compute rouge metrics based on generated summary and original summary (target) \n",
    "rouge_scores = rouge.compute(predictions=generated_summaries, references=target_texts) "
   ]
  },
  {
   "cell_type": "code",
   "execution_count": 8,
   "metadata": {},
   "outputs": [
    {
     "name": "stdout",
     "output_type": "stream",
     "text": [
      "rouge1: Score(precision=0.6592064440736602, recall=0.6324733143712006, fmeasure=0.6132238861334389)\n",
      "rouge2: Score(precision=0.5080411090198691, recall=0.4968806580602876, fmeasure=0.47866874404111104)\n",
      "rougeL: Score(precision=0.5735140296805632, recall=0.560047355602015, fmeasure=0.5396991258438945)\n",
      "rougeLsum: Score(precision=0.6167078297893005, recall=0.5946188830525441, fmeasure=0.5762430613700162)\n"
     ]
    }
   ],
   "source": [
    "# ROUGE has 3 types: low, mid, high\n",
    "# Mid is more reliable and robust - print it \n",
    "for key, value in rouge_scores.items():\n",
    "    print(f\"{key}: {value.mid}\")"
   ]
  },
  {
   "cell_type": "code",
   "execution_count": 9,
   "metadata": {},
   "outputs": [
    {
     "data": {
      "text/html": [
       "<div>\n",
       "<style scoped>\n",
       "    .dataframe tbody tr th:only-of-type {\n",
       "        vertical-align: middle;\n",
       "    }\n",
       "\n",
       "    .dataframe tbody tr th {\n",
       "        vertical-align: top;\n",
       "    }\n",
       "\n",
       "    .dataframe thead th {\n",
       "        text-align: right;\n",
       "    }\n",
       "</style>\n",
       "<table border=\"1\" class=\"dataframe\">\n",
       "  <thead>\n",
       "    <tr style=\"text-align: right;\">\n",
       "      <th></th>\n",
       "      <th>text</th>\n",
       "      <th>summary</th>\n",
       "      <th>generated_summary</th>\n",
       "    </tr>\n",
       "  </thead>\n",
       "  <tbody>\n",
       "    <tr>\n",
       "      <th>0</th>\n",
       "      <td>Vladimir Putin is 'alive' but 'neutralised' as...</td>\n",
       "      <td>Vladimir Putin is supposed to hold public meet...</td>\n",
       "      <td>Vladimir Putin is supposed to hold public meet...</td>\n",
       "    </tr>\n",
       "    <tr>\n",
       "      <th>1</th>\n",
       "      <td>#Person1#: How old is Keith?\\n#Person2#: He's ...</td>\n",
       "      <td>#Person1# and #Person2# talk about the age of ...</td>\n",
       "      <td>#Person1# and #Person2# are talking about the ...</td>\n",
       "    </tr>\n",
       "    <tr>\n",
       "      <th>2</th>\n",
       "      <td>(CNN)The United States has seemingly erupted t...</td>\n",
       "      <td>A Native American from a tribe not recognized ...</td>\n",
       "      <td>In Indiana, there were only 16 states with rel...</td>\n",
       "    </tr>\n",
       "    <tr>\n",
       "      <th>3</th>\n",
       "      <td>#Person1#: When do you want to have the open h...</td>\n",
       "      <td>#Person1# and #Person2# are planning an open h...</td>\n",
       "      <td>#Person1# and #Person2# are planning an open h...</td>\n",
       "    </tr>\n",
       "    <tr>\n",
       "      <th>4</th>\n",
       "      <td>neutral pion photoproduction on the proton at ...</td>\n",
       "      <td>we investigate the neutral pion photoproductio...</td>\n",
       "      <td>neutral pion photoproduction on the proton is ...</td>\n",
       "    </tr>\n",
       "    <tr>\n",
       "      <th>...</th>\n",
       "      <td>...</td>\n",
       "      <td>...</td>\n",
       "      <td>...</td>\n",
       "    </tr>\n",
       "    <tr>\n",
       "      <th>5011</th>\n",
       "      <td>The New York Police Department is searching fo...</td>\n",
       "      <td>Driver was at intersection of Broadway and Wes...</td>\n",
       "      <td>Driver was at intersection of Broadway and Wes...</td>\n",
       "    </tr>\n",
       "    <tr>\n",
       "      <th>5012</th>\n",
       "      <td>SECTION 1. SHORT TITLE.\\n\\n    This Act may be...</td>\n",
       "      <td>Preservation of Localism, Program Diversity, a...</td>\n",
       "      <td>Preservation of Localism, Program Diversity, a...</td>\n",
       "    </tr>\n",
       "    <tr>\n",
       "      <th>5013</th>\n",
       "      <td>vortex instabilities are observed throughout t...</td>\n",
       "      <td>vortices have been postulated at a range of si...</td>\n",
       "      <td>vortices are observed at the smallest scales i...</td>\n",
       "    </tr>\n",
       "    <tr>\n",
       "      <th>5014</th>\n",
       "      <td>Daniel Levy reportedly told the Tottenham Hots...</td>\n",
       "      <td>Tottenham Hotspur chairman Daniel Levy has tol...</td>\n",
       "      <td>Daniel Levy reportedly told the Tottenham supp...</td>\n",
       "    </tr>\n",
       "    <tr>\n",
       "      <th>5015</th>\n",
       "      <td>#Person1#: Hi, Jim. I haven't seen you for a f...</td>\n",
       "      <td>Jim and his brother want to travel but it's ex...</td>\n",
       "      <td>Jim has been studying a lot for his final exam...</td>\n",
       "    </tr>\n",
       "  </tbody>\n",
       "</table>\n",
       "<p>5016 rows × 3 columns</p>\n",
       "</div>"
      ],
      "text/plain": [
       "                                                   text  \\\n",
       "0     Vladimir Putin is 'alive' but 'neutralised' as...   \n",
       "1     #Person1#: How old is Keith?\\n#Person2#: He's ...   \n",
       "2     (CNN)The United States has seemingly erupted t...   \n",
       "3     #Person1#: When do you want to have the open h...   \n",
       "4     neutral pion photoproduction on the proton at ...   \n",
       "...                                                 ...   \n",
       "5011  The New York Police Department is searching fo...   \n",
       "5012  SECTION 1. SHORT TITLE.\\n\\n    This Act may be...   \n",
       "5013  vortex instabilities are observed throughout t...   \n",
       "5014  Daniel Levy reportedly told the Tottenham Hots...   \n",
       "5015  #Person1#: Hi, Jim. I haven't seen you for a f...   \n",
       "\n",
       "                                                summary  \\\n",
       "0     Vladimir Putin is supposed to hold public meet...   \n",
       "1     #Person1# and #Person2# talk about the age of ...   \n",
       "2     A Native American from a tribe not recognized ...   \n",
       "3     #Person1# and #Person2# are planning an open h...   \n",
       "4     we investigate the neutral pion photoproductio...   \n",
       "...                                                 ...   \n",
       "5011  Driver was at intersection of Broadway and Wes...   \n",
       "5012  Preservation of Localism, Program Diversity, a...   \n",
       "5013  vortices have been postulated at a range of si...   \n",
       "5014  Tottenham Hotspur chairman Daniel Levy has tol...   \n",
       "5015  Jim and his brother want to travel but it's ex...   \n",
       "\n",
       "                                      generated_summary  \n",
       "0     Vladimir Putin is supposed to hold public meet...  \n",
       "1     #Person1# and #Person2# are talking about the ...  \n",
       "2     In Indiana, there were only 16 states with rel...  \n",
       "3     #Person1# and #Person2# are planning an open h...  \n",
       "4     neutral pion photoproduction on the proton is ...  \n",
       "...                                                 ...  \n",
       "5011  Driver was at intersection of Broadway and Wes...  \n",
       "5012  Preservation of Localism, Program Diversity, a...  \n",
       "5013  vortices are observed at the smallest scales i...  \n",
       "5014  Daniel Levy reportedly told the Tottenham supp...  \n",
       "5015  Jim has been studying a lot for his final exam...  \n",
       "\n",
       "[5016 rows x 3 columns]"
      ]
     },
     "execution_count": 9,
     "metadata": {},
     "output_type": "execute_result"
    }
   ],
   "source": [
    "# save the dataframe to csv file\n",
    "validation_data.to_csv('/home/mohan/infy/data/gen/with_gen_summ.csv', index=False)\n",
    "validation_data"
   ]
  },
  {
   "cell_type": "code",
   "execution_count": 4,
   "metadata": {},
   "outputs": [],
   "source": [
    "# To get ROUGE score for foundational model - compare before and after model fine-tunning - performance\n",
    "\n",
    "# Load foundational model and tokenizer\n",
    "mdl =  'facebook/bart-large' \n",
    "pt_model = BartForConditionalGeneration.from_pretrained(mdl)\n",
    "pt_tokenizer = BartTokenizer.from_pretrained(mdl)\n",
    "\n",
    "device = torch.device(\"cuda\" if torch.cuda.is_available() else \"cpu\")\n",
    "pt_model = pt_model.to(device) # cuda backend"
   ]
  },
  {
   "cell_type": "code",
   "execution_count": 10,
   "metadata": {},
   "outputs": [
    {
     "name": "stderr",
     "output_type": "stream",
     "text": [
      "/home/mohan/miniconda3/envs/infosys/lib/python3.11/site-packages/datasets/load.py:759: FutureWarning: The repository for rouge contains custom code which must be executed to correctly load the metric. You can inspect the repository content at https://raw.githubusercontent.com/huggingface/datasets/2.19.2/metrics/rouge/rouge.py\n",
      "You can avoid this message in future by passing the argument `trust_remote_code=True`.\n",
      "Passing `trust_remote_code=True` will be mandatory to load this metric from the next major release of `datasets`.\n",
      "  warnings.warn(\n"
     ]
    }
   ],
   "source": [
    "#For the direct : Pre-Trained model Facebook/bart-large\n",
    "rouge = load_metric('rouge')\n",
    "\n",
    "# Function to generate summaries\n",
    "def pt_generate_summary(text):\n",
    "    inputs = pt_tokenizer(text, return_tensors=\"pt\", max_length=512, truncation=True).to(device) # feature load & tokenize & convert to tensor \n",
    "    summary_ids = pt_model.generate(inputs.input_ids, max_length=150, min_length=40, length_penalty=2.0, num_beams=4, early_stopping=True) # Generate summary IDs with specified parameters\n",
    "    summary = pt_tokenizer.decode(summary_ids[0], skip_special_tokens=True)  # Decode summary IDs to text and skip special tokens\n",
    "    return summary"
   ]
  },
  {
   "cell_type": "code",
   "execution_count": null,
   "metadata": {},
   "outputs": [],
   "source": [
    "# Generate summaries\n",
    "pt_generated_summaries = [pt_generate_summary(text) for text in input_texts] "
   ]
  },
  {
   "cell_type": "code",
   "execution_count": 7,
   "metadata": {},
   "outputs": [],
   "source": [
    "#compute rouge metrics \n",
    "rouge_scores = rouge.compute(predictions=pt_generated_summaries, references=target_texts)"
   ]
  },
  {
   "cell_type": "code",
   "execution_count": 9,
   "metadata": {},
   "outputs": [
    {
     "name": "stdout",
     "output_type": "stream",
     "text": [
      "{'rouge1': AggregateScore(low=Score(precision=0.3048137427438569, recall=0.4335034041266581, fmeasure=0.28711691368110964), mid=Score(precision=0.30968324775739353, recall=0.4396760585008399, fmeasure=0.29054592962775116), high=Score(precision=0.3144532671635308, recall=0.44555749618641843, fmeasure=0.2936845125812506)), 'rouge2': AggregateScore(low=Score(precision=0.12263017171630873, recall=0.17323261189957923, fmeasure=0.11361270604137685), mid=Score(precision=0.12535111393152845, recall=0.17781582343023616, fmeasure=0.11609005370534525), high=Score(precision=0.12848855775106713, recall=0.1819071163626353, fmeasure=0.11859315788564989)), 'rougeL': AggregateScore(low=Score(precision=0.19789785525661754, recall=0.28564791207596146, fmeasure=0.1856701768667198), mid=Score(precision=0.20093013240942154, recall=0.2907883810753654, fmeasure=0.1878558128893604), high=Score(precision=0.2041755129713334, recall=0.29555510735902146, fmeasure=0.18999094096418412)), 'rougeLsum': AggregateScore(low=Score(precision=0.23723859677760661, recall=0.3394148120512084, fmeasure=0.22411819701847419), mid=Score(precision=0.24092968768212347, recall=0.34497937380932003, fmeasure=0.22708400391795613), high=Score(precision=0.24475022532997032, recall=0.3507782734596767, fmeasure=0.22995275418143432))}\n"
     ]
    }
   ],
   "source": [
    "print(rouge_scores) # metrics before fine tunning"
   ]
  },
  {
   "cell_type": "code",
   "execution_count": 8,
   "metadata": {},
   "outputs": [
    {
     "name": "stdout",
     "output_type": "stream",
     "text": [
      "rouge1: Score(precision=0.30968324775739353, recall=0.4396760585008399, fmeasure=0.29054592962775116)\n",
      "rouge2: Score(precision=0.12535111393152845, recall=0.17781582343023616, fmeasure=0.11609005370534525)\n",
      "rougeL: Score(precision=0.20093013240942154, recall=0.2907883810753654, fmeasure=0.1878558128893604)\n",
      "rougeLsum: Score(precision=0.24092968768212347, recall=0.34497937380932003, fmeasure=0.22708400391795613)\n"
     ]
    }
   ],
   "source": [
    "for key, value in rouge_scores.items(): # mid values before fine tunning\n",
    "    print(f\"{key}: {value.mid}\")"
   ]
  },
  {
   "cell_type": "code",
   "execution_count": null,
   "metadata": {},
   "outputs": [],
   "source": []
  }
 ],
 "metadata": {
  "kernelspec": {
   "display_name": "infosys",
   "language": "python",
   "name": "python3"
  },
  "language_info": {
   "codemirror_mode": {
    "name": "ipython",
    "version": 3
   },
   "file_extension": ".py",
   "mimetype": "text/x-python",
   "name": "python",
   "nbconvert_exporter": "python",
   "pygments_lexer": "ipython3",
   "version": "3.11.9"
  }
 },
 "nbformat": 4,
 "nbformat_minor": 2
}
