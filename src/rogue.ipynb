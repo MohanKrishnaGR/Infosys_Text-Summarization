{
 "cells": [
  {
   "cell_type": "code",
   "execution_count": 18,
   "metadata": {},
   "outputs": [],
   "source": [
    "import pandas as pd\n",
    "from transformers import BartForConditionalGeneration, BartTokenizer\n",
    "from datasets import load_metric"
   ]
  },
  {
   "cell_type": "code",
   "execution_count": 19,
   "metadata": {},
   "outputs": [],
   "source": [
    "validation_data = pd.read_csv('/home/mohan/infy/data/fined/valid.csv')\n",
    "\n",
    "input_texts = validation_data['text'].tolist()\n",
    "target_texts = validation_data['summary'].tolist()"
   ]
  },
  {
   "cell_type": "code",
   "execution_count": 20,
   "metadata": {},
   "outputs": [
    {
     "data": {
      "text/html": [
       "<div>\n",
       "<style scoped>\n",
       "    .dataframe tbody tr th:only-of-type {\n",
       "        vertical-align: middle;\n",
       "    }\n",
       "\n",
       "    .dataframe tbody tr th {\n",
       "        vertical-align: top;\n",
       "    }\n",
       "\n",
       "    .dataframe thead th {\n",
       "        text-align: right;\n",
       "    }\n",
       "</style>\n",
       "<table border=\"1\" class=\"dataframe\">\n",
       "  <thead>\n",
       "    <tr style=\"text-align: right;\">\n",
       "      <th></th>\n",
       "      <th>Unnamed: 0</th>\n",
       "      <th>text</th>\n",
       "      <th>summary</th>\n",
       "    </tr>\n",
       "  </thead>\n",
       "  <tbody>\n",
       "    <tr>\n",
       "      <th>0</th>\n",
       "      <td>0</td>\n",
       "      <td>SECTION 1. SHORT TITLE.\\n\\n    This Act may be...</td>\n",
       "      <td>Promoting Closed-Loop Pumped Storage Hydropowe...</td>\n",
       "    </tr>\n",
       "    <tr>\n",
       "      <th>1</th>\n",
       "      <td>1</td>\n",
       "      <td>SECTION 1. DEDUCTION FOR HEALTH AND LONG-TERM ...</td>\n",
       "      <td>Amends the Internal Revenue Code to allow indi...</td>\n",
       "    </tr>\n",
       "    <tr>\n",
       "      <th>2</th>\n",
       "      <td>2</td>\n",
       "      <td>One of Argentina's top referees is under inves...</td>\n",
       "      <td>German Delfino faces ban after overturning dec...</td>\n",
       "    </tr>\n",
       "    <tr>\n",
       "      <th>3</th>\n",
       "      <td>3</td>\n",
       "      <td>At least 35 workers have been killed at a dair...</td>\n",
       "      <td>Dairy factory in Red Sea port city of Hodeida ...</td>\n",
       "    </tr>\n",
       "    <tr>\n",
       "      <th>4</th>\n",
       "      <td>4</td>\n",
       "      <td>Daniel Levy reportedly told the Tottenham Hots...</td>\n",
       "      <td>Tottenham Hotspur chairman Daniel Levy has tol...</td>\n",
       "    </tr>\n",
       "    <tr>\n",
       "      <th>...</th>\n",
       "      <td>...</td>\n",
       "      <td>...</td>\n",
       "      <td>...</td>\n",
       "    </tr>\n",
       "    <tr>\n",
       "      <th>95</th>\n",
       "      <td>95</td>\n",
       "      <td>Gary Cahill has hinted Chelsea are feeling the...</td>\n",
       "      <td>Chelsea could only manage a draw at home to So...</td>\n",
       "    </tr>\n",
       "    <tr>\n",
       "      <th>96</th>\n",
       "      <td>96</td>\n",
       "      <td>In a ruling that could end the reign of illega...</td>\n",
       "      <td>Companies will have to reveal names, IP addres...</td>\n",
       "    </tr>\n",
       "    <tr>\n",
       "      <th>97</th>\n",
       "      <td>97</td>\n",
       "      <td>England's Joe Root has every hope the team can...</td>\n",
       "      <td>Joe Root hit 118 not out to help England into ...</td>\n",
       "    </tr>\n",
       "    <tr>\n",
       "      <th>98</th>\n",
       "      <td>98</td>\n",
       "      <td>SECTION 1. SHORT TITLE.\\n\\n    This Act may be...</td>\n",
       "      <td>Fair Credit Card Application Act of 1997 - Ame...</td>\n",
       "    </tr>\n",
       "    <tr>\n",
       "      <th>99</th>\n",
       "      <td>99</td>\n",
       "      <td>Mystery surrounds the sensational CCTV footage...</td>\n",
       "      <td>Daily Mirror published the first pictures of t...</td>\n",
       "    </tr>\n",
       "  </tbody>\n",
       "</table>\n",
       "<p>100 rows × 3 columns</p>\n",
       "</div>"
      ],
      "text/plain": [
       "    Unnamed: 0                                               text  \\\n",
       "0            0  SECTION 1. SHORT TITLE.\\n\\n    This Act may be...   \n",
       "1            1  SECTION 1. DEDUCTION FOR HEALTH AND LONG-TERM ...   \n",
       "2            2  One of Argentina's top referees is under inves...   \n",
       "3            3  At least 35 workers have been killed at a dair...   \n",
       "4            4  Daniel Levy reportedly told the Tottenham Hots...   \n",
       "..         ...                                                ...   \n",
       "95          95  Gary Cahill has hinted Chelsea are feeling the...   \n",
       "96          96  In a ruling that could end the reign of illega...   \n",
       "97          97  England's Joe Root has every hope the team can...   \n",
       "98          98  SECTION 1. SHORT TITLE.\\n\\n    This Act may be...   \n",
       "99          99  Mystery surrounds the sensational CCTV footage...   \n",
       "\n",
       "                                              summary  \n",
       "0   Promoting Closed-Loop Pumped Storage Hydropowe...  \n",
       "1   Amends the Internal Revenue Code to allow indi...  \n",
       "2   German Delfino faces ban after overturning dec...  \n",
       "3   Dairy factory in Red Sea port city of Hodeida ...  \n",
       "4   Tottenham Hotspur chairman Daniel Levy has tol...  \n",
       "..                                                ...  \n",
       "95  Chelsea could only manage a draw at home to So...  \n",
       "96  Companies will have to reveal names, IP addres...  \n",
       "97  Joe Root hit 118 not out to help England into ...  \n",
       "98  Fair Credit Card Application Act of 1997 - Ame...  \n",
       "99  Daily Mirror published the first pictures of t...  \n",
       "\n",
       "[100 rows x 3 columns]"
      ]
     },
     "execution_count": 20,
     "metadata": {},
     "output_type": "execute_result"
    }
   ],
   "source": [
    "validation_data"
   ]
  },
  {
   "cell_type": "code",
   "execution_count": 21,
   "metadata": {},
   "outputs": [],
   "source": [
    "# Load your fine-tuned model and tokenizer\n",
    "model_path =  '/home/mohan/infy/models/fine_tuned_Text_Summ/saved' \n",
    "model = BartForConditionalGeneration.from_pretrained(model_path)\n",
    "tokenizer = BartTokenizer.from_pretrained(model_path)"
   ]
  },
  {
   "cell_type": "code",
   "execution_count": 22,
   "metadata": {},
   "outputs": [
    {
     "name": "stderr",
     "output_type": "stream",
     "text": [
      "/home/mohan/miniconda3/envs/infosys/lib/python3.11/site-packages/datasets/load.py:759: FutureWarning: The repository for rouge contains custom code which must be executed to correctly load the metric. You can inspect the repository content at https://raw.githubusercontent.com/huggingface/datasets/2.19.2/metrics/rouge/rouge.py\n",
      "You can avoid this message in future by passing the argument `trust_remote_code=True`.\n",
      "Passing `trust_remote_code=True` will be mandatory to load this metric from the next major release of `datasets`.\n",
      "  warnings.warn(\n"
     ]
    }
   ],
   "source": [
    "# Load the ROUGE metric\n",
    "rouge = load_metric('rouge')\n",
    "\n",
    "# Function to generate summaries\n",
    "def generate_summary(text):\n",
    "    inputs = tokenizer(text, return_tensors=\"pt\", max_length=512, truncation=True)\n",
    "    summary_ids = model.generate(inputs.input_ids, max_length=150, min_length=40, length_penalty=2.0, num_beams=4, early_stopping=True)\n",
    "    summary = tokenizer.decode(summary_ids[0], skip_special_tokens=True)\n",
    "    return summary\n",
    "\n",
    "# Generate summaries for the validation set \n",
    "generated_summaries = [generate_summary(text) for text in input_texts]"
   ]
  },
  {
   "cell_type": "code",
   "execution_count": 23,
   "metadata": {},
   "outputs": [],
   "source": [
    "rouge_scores = rouge.compute(predictions=generated_summaries, references=target_texts)"
   ]
  },
  {
   "cell_type": "code",
   "execution_count": 24,
   "metadata": {},
   "outputs": [
    {
     "name": "stdout",
     "output_type": "stream",
     "text": [
      "rouge1: Score(precision=0.6595068808836118, recall=0.6445753055143894, fmeasure=0.6242702506030464)\n",
      "rouge2: Score(precision=0.5253762966763771, recall=0.5138325274953983, fmeasure=0.498804972593745)\n",
      "rougeL: Score(precision=0.5774826585948081, recall=0.5705118629443797, fmeasure=0.5515500092228083)\n",
      "rougeLsum: Score(precision=0.6283288957382498, recall=0.6142534967039112, fmeasure=0.5960371270978608)\n"
     ]
    }
   ],
   "source": [
    "for key, value in rouge_scores.items():\n",
    "    print(f\"{key}: {value.mid}\")"
   ]
  },
  {
   "cell_type": "code",
   "execution_count": null,
   "metadata": {},
   "outputs": [],
   "source": []
  }
 ],
 "metadata": {
  "kernelspec": {
   "display_name": "infosys",
   "language": "python",
   "name": "python3"
  },
  "language_info": {
   "codemirror_mode": {
    "name": "ipython",
    "version": 3
   },
   "file_extension": ".py",
   "mimetype": "text/x-python",
   "name": "python",
   "nbconvert_exporter": "python",
   "pygments_lexer": "ipython3",
   "version": "3.11.9"
  }
 },
 "nbformat": 4,
 "nbformat_minor": 2
}
